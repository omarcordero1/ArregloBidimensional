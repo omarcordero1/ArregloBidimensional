{
  "nbformat": 4,
  "nbformat_minor": 0,
  "metadata": {
    "colab": {
      "name": "SEO.ipynb",
      "provenance": [],
      "authorship_tag": "ABX9TyPGvxtPw+gcGjBgllzxqrFj",
      "include_colab_link": true
    },
    "kernelspec": {
      "name": "python3",
      "display_name": "Python 3"
    },
    "language_info": {
      "name": "python"
    }
  },
  "cells": [
    {
      "cell_type": "markdown",
      "metadata": {
        "id": "view-in-github",
        "colab_type": "text"
      },
      "source": [
        "<a href=\"https://colab.research.google.com/github/omarcordero1/ArregloBidimensional/blob/Practica_c/SEO.ipynb\" target=\"_parent\"><img src=\"https://colab.research.google.com/assets/colab-badge.svg\" alt=\"Open In Colab\"/></a>"
      ]
    },
    {
      "cell_type": "markdown",
      "source": [
        "*Análisis de posicionamiento orgánico Milenio 6 meses*"
      ],
      "metadata": {
        "id": "krC2lI0HlMTs"
      }
    },
    {
      "cell_type": "code",
      "source": [
        "###Cargar liberias\n",
        "\n",
        "% matplotlib inline\n",
        "import pandas as pd"
      ],
      "metadata": {
        "id": "Qjb1vXdflf5q"
      },
      "execution_count": null,
      "outputs": []
    },
    {
      "cell_type": "code",
      "source": [
        "compras_df= pd.read_csv('/content/Queries.csv')\n",
        "data.head"
      ],
      "metadata": {
        "colab": {
          "base_uri": "https://localhost:8080/"
        },
        "id": "KY01A7A_mGb6",
        "outputId": "4f31d3e3-91e6-4f7a-b317-a7c88707aca4"
      },
      "execution_count": null,
      "outputs": [
        {
          "output_type": "execute_result",
          "data": {
            "text/plain": [
              "<bound method NDFrame.head of      Top queries  CTR\n",
              "0            610  390\n",
              "1            604  761\n",
              "2            121  722\n",
              "3            874  148\n",
              "4            115  556\n",
              "..           ...  ...\n",
              "995          588  349\n",
              "996          470  356\n",
              "997          783  365\n",
              "998          961  798\n",
              "999          479  327\n",
              "\n",
              "[1000 rows x 2 columns]>"
            ]
          },
          "metadata": {},
          "execution_count": 44
        }
      ]
    },
    {
      "cell_type": "markdown",
      "source": [
        "# Módelo supervisado"
      ],
      "metadata": {
        "id": "LJB9rBxDmegK"
      }
    },
    {
      "cell_type": "code",
      "source": [
        "data.describe()"
      ],
      "metadata": {
        "colab": {
          "base_uri": "https://localhost:8080/",
          "height": 300
        },
        "id": "EhIxDBWpmgVa",
        "outputId": "fa0d3417-512f-483b-af48-e7c82c021e04"
      },
      "execution_count": null,
      "outputs": [
        {
          "output_type": "execute_result",
          "data": {
            "text/plain": [
              "             Clicks   Impressions     Position\n",
              "count  1.000000e+03  1.000000e+03  1000.000000\n",
              "mean   2.933468e+04  1.186177e+06     4.192110\n",
              "std    5.823951e+04  5.685173e+06     1.998171\n",
              "min    9.480000e+03  1.493700e+04     1.000000\n",
              "25%    1.179600e+04  1.103818e+05     2.667500\n",
              "50%    1.603450e+04  2.865110e+05     3.885000\n",
              "75%    2.899875e+04  7.454222e+05     5.452500\n",
              "max    1.403643e+06  1.002235e+08    13.150000"
            ],
            "text/html": [
              "\n",
              "  <div id=\"df-1c62a951-69e2-40e9-a74e-f594d05fd186\">\n",
              "    <div class=\"colab-df-container\">\n",
              "      <div>\n",
              "<style scoped>\n",
              "    .dataframe tbody tr th:only-of-type {\n",
              "        vertical-align: middle;\n",
              "    }\n",
              "\n",
              "    .dataframe tbody tr th {\n",
              "        vertical-align: top;\n",
              "    }\n",
              "\n",
              "    .dataframe thead th {\n",
              "        text-align: right;\n",
              "    }\n",
              "</style>\n",
              "<table border=\"1\" class=\"dataframe\">\n",
              "  <thead>\n",
              "    <tr style=\"text-align: right;\">\n",
              "      <th></th>\n",
              "      <th>Clicks</th>\n",
              "      <th>Impressions</th>\n",
              "      <th>Position</th>\n",
              "    </tr>\n",
              "  </thead>\n",
              "  <tbody>\n",
              "    <tr>\n",
              "      <th>count</th>\n",
              "      <td>1.000000e+03</td>\n",
              "      <td>1.000000e+03</td>\n",
              "      <td>1000.000000</td>\n",
              "    </tr>\n",
              "    <tr>\n",
              "      <th>mean</th>\n",
              "      <td>2.933468e+04</td>\n",
              "      <td>1.186177e+06</td>\n",
              "      <td>4.192110</td>\n",
              "    </tr>\n",
              "    <tr>\n",
              "      <th>std</th>\n",
              "      <td>5.823951e+04</td>\n",
              "      <td>5.685173e+06</td>\n",
              "      <td>1.998171</td>\n",
              "    </tr>\n",
              "    <tr>\n",
              "      <th>min</th>\n",
              "      <td>9.480000e+03</td>\n",
              "      <td>1.493700e+04</td>\n",
              "      <td>1.000000</td>\n",
              "    </tr>\n",
              "    <tr>\n",
              "      <th>25%</th>\n",
              "      <td>1.179600e+04</td>\n",
              "      <td>1.103818e+05</td>\n",
              "      <td>2.667500</td>\n",
              "    </tr>\n",
              "    <tr>\n",
              "      <th>50%</th>\n",
              "      <td>1.603450e+04</td>\n",
              "      <td>2.865110e+05</td>\n",
              "      <td>3.885000</td>\n",
              "    </tr>\n",
              "    <tr>\n",
              "      <th>75%</th>\n",
              "      <td>2.899875e+04</td>\n",
              "      <td>7.454222e+05</td>\n",
              "      <td>5.452500</td>\n",
              "    </tr>\n",
              "    <tr>\n",
              "      <th>max</th>\n",
              "      <td>1.403643e+06</td>\n",
              "      <td>1.002235e+08</td>\n",
              "      <td>13.150000</td>\n",
              "    </tr>\n",
              "  </tbody>\n",
              "</table>\n",
              "</div>\n",
              "      <button class=\"colab-df-convert\" onclick=\"convertToInteractive('df-1c62a951-69e2-40e9-a74e-f594d05fd186')\"\n",
              "              title=\"Convert this dataframe to an interactive table.\"\n",
              "              style=\"display:none;\">\n",
              "        \n",
              "  <svg xmlns=\"http://www.w3.org/2000/svg\" height=\"24px\"viewBox=\"0 0 24 24\"\n",
              "       width=\"24px\">\n",
              "    <path d=\"M0 0h24v24H0V0z\" fill=\"none\"/>\n",
              "    <path d=\"M18.56 5.44l.94 2.06.94-2.06 2.06-.94-2.06-.94-.94-2.06-.94 2.06-2.06.94zm-11 1L8.5 8.5l.94-2.06 2.06-.94-2.06-.94L8.5 2.5l-.94 2.06-2.06.94zm10 10l.94 2.06.94-2.06 2.06-.94-2.06-.94-.94-2.06-.94 2.06-2.06.94z\"/><path d=\"M17.41 7.96l-1.37-1.37c-.4-.4-.92-.59-1.43-.59-.52 0-1.04.2-1.43.59L10.3 9.45l-7.72 7.72c-.78.78-.78 2.05 0 2.83L4 21.41c.39.39.9.59 1.41.59.51 0 1.02-.2 1.41-.59l7.78-7.78 2.81-2.81c.8-.78.8-2.07 0-2.86zM5.41 20L4 18.59l7.72-7.72 1.47 1.35L5.41 20z\"/>\n",
              "  </svg>\n",
              "      </button>\n",
              "      \n",
              "  <style>\n",
              "    .colab-df-container {\n",
              "      display:flex;\n",
              "      flex-wrap:wrap;\n",
              "      gap: 12px;\n",
              "    }\n",
              "\n",
              "    .colab-df-convert {\n",
              "      background-color: #E8F0FE;\n",
              "      border: none;\n",
              "      border-radius: 50%;\n",
              "      cursor: pointer;\n",
              "      display: none;\n",
              "      fill: #1967D2;\n",
              "      height: 32px;\n",
              "      padding: 0 0 0 0;\n",
              "      width: 32px;\n",
              "    }\n",
              "\n",
              "    .colab-df-convert:hover {\n",
              "      background-color: #E2EBFA;\n",
              "      box-shadow: 0px 1px 2px rgba(60, 64, 67, 0.3), 0px 1px 3px 1px rgba(60, 64, 67, 0.15);\n",
              "      fill: #174EA6;\n",
              "    }\n",
              "\n",
              "    [theme=dark] .colab-df-convert {\n",
              "      background-color: #3B4455;\n",
              "      fill: #D2E3FC;\n",
              "    }\n",
              "\n",
              "    [theme=dark] .colab-df-convert:hover {\n",
              "      background-color: #434B5C;\n",
              "      box-shadow: 0px 1px 3px 1px rgba(0, 0, 0, 0.15);\n",
              "      filter: drop-shadow(0px 1px 2px rgba(0, 0, 0, 0.3));\n",
              "      fill: #FFFFFF;\n",
              "    }\n",
              "  </style>\n",
              "\n",
              "      <script>\n",
              "        const buttonEl =\n",
              "          document.querySelector('#df-1c62a951-69e2-40e9-a74e-f594d05fd186 button.colab-df-convert');\n",
              "        buttonEl.style.display =\n",
              "          google.colab.kernel.accessAllowed ? 'block' : 'none';\n",
              "\n",
              "        async function convertToInteractive(key) {\n",
              "          const element = document.querySelector('#df-1c62a951-69e2-40e9-a74e-f594d05fd186');\n",
              "          const dataTable =\n",
              "            await google.colab.kernel.invokeFunction('convertToInteractive',\n",
              "                                                     [key], {});\n",
              "          if (!dataTable) return;\n",
              "\n",
              "          const docLinkHtml = 'Like what you see? Visit the ' +\n",
              "            '<a target=\"_blank\" href=https://colab.research.google.com/notebooks/data_table.ipynb>data table notebook</a>'\n",
              "            + ' to learn more about interactive tables.';\n",
              "          element.innerHTML = '';\n",
              "          dataTable['output_type'] = 'display_data';\n",
              "          await google.colab.output.renderOutput(dataTable, element);\n",
              "          const docLink = document.createElement('div');\n",
              "          docLink.innerHTML = docLinkHtml;\n",
              "          element.appendChild(docLink);\n",
              "        }\n",
              "      </script>\n",
              "    </div>\n",
              "  </div>\n",
              "  "
            ]
          },
          "metadata": {},
          "execution_count": 15
        }
      ]
    },
    {
      "cell_type": "code",
      "source": [
        "data = compras_df.copy()\n",
        "for i, column in enumerate(list([str(d) for d in data.dtypes])):\n",
        "    if column == \"object\":\n",
        "        data[data.columns[i]] = data[data.columns[i]].fillna(data[data.columns[i]].mode())\n",
        "        data[data.columns[i]] = data[data.columns[i]].astype(\"category\").cat.codes\n",
        "    else:\n",
        "        data[data.columns[i]] = data[data.columns[i]].fillna(data[data.columns[i]].median())"
      ],
      "metadata": {
        "id": "tFyEftWXm_9E"
      },
      "execution_count": null,
      "outputs": []
    },
    {
      "cell_type": "code",
      "source": [
        "data.head()"
      ],
      "metadata": {
        "colab": {
          "base_uri": "https://localhost:8080/",
          "height": 206
        },
        "id": "EVxT-uR4qEwK",
        "outputId": "d1c784dd-5faf-41cc-b256-b9550cc320a4"
      },
      "execution_count": null,
      "outputs": [
        {
          "output_type": "execute_result",
          "data": {
            "text/plain": [
              "   Top queries   Clicks  Impressions  CTR  Position\n",
              "0          610  1403643      5351785  390      1.56\n",
              "1          604   758939      8793965  761      3.62\n",
              "2          121   294087      3876510  722      3.37\n",
              "3          874   275241      2348242  148      2.92\n",
              "4          115   254466      5257899  556      3.81"
            ],
            "text/html": [
              "\n",
              "  <div id=\"df-0faa90b1-b728-4787-a065-9248e0b0c982\">\n",
              "    <div class=\"colab-df-container\">\n",
              "      <div>\n",
              "<style scoped>\n",
              "    .dataframe tbody tr th:only-of-type {\n",
              "        vertical-align: middle;\n",
              "    }\n",
              "\n",
              "    .dataframe tbody tr th {\n",
              "        vertical-align: top;\n",
              "    }\n",
              "\n",
              "    .dataframe thead th {\n",
              "        text-align: right;\n",
              "    }\n",
              "</style>\n",
              "<table border=\"1\" class=\"dataframe\">\n",
              "  <thead>\n",
              "    <tr style=\"text-align: right;\">\n",
              "      <th></th>\n",
              "      <th>Top queries</th>\n",
              "      <th>Clicks</th>\n",
              "      <th>Impressions</th>\n",
              "      <th>CTR</th>\n",
              "      <th>Position</th>\n",
              "    </tr>\n",
              "  </thead>\n",
              "  <tbody>\n",
              "    <tr>\n",
              "      <th>0</th>\n",
              "      <td>610</td>\n",
              "      <td>1403643</td>\n",
              "      <td>5351785</td>\n",
              "      <td>390</td>\n",
              "      <td>1.56</td>\n",
              "    </tr>\n",
              "    <tr>\n",
              "      <th>1</th>\n",
              "      <td>604</td>\n",
              "      <td>758939</td>\n",
              "      <td>8793965</td>\n",
              "      <td>761</td>\n",
              "      <td>3.62</td>\n",
              "    </tr>\n",
              "    <tr>\n",
              "      <th>2</th>\n",
              "      <td>121</td>\n",
              "      <td>294087</td>\n",
              "      <td>3876510</td>\n",
              "      <td>722</td>\n",
              "      <td>3.37</td>\n",
              "    </tr>\n",
              "    <tr>\n",
              "      <th>3</th>\n",
              "      <td>874</td>\n",
              "      <td>275241</td>\n",
              "      <td>2348242</td>\n",
              "      <td>148</td>\n",
              "      <td>2.92</td>\n",
              "    </tr>\n",
              "    <tr>\n",
              "      <th>4</th>\n",
              "      <td>115</td>\n",
              "      <td>254466</td>\n",
              "      <td>5257899</td>\n",
              "      <td>556</td>\n",
              "      <td>3.81</td>\n",
              "    </tr>\n",
              "  </tbody>\n",
              "</table>\n",
              "</div>\n",
              "      <button class=\"colab-df-convert\" onclick=\"convertToInteractive('df-0faa90b1-b728-4787-a065-9248e0b0c982')\"\n",
              "              title=\"Convert this dataframe to an interactive table.\"\n",
              "              style=\"display:none;\">\n",
              "        \n",
              "  <svg xmlns=\"http://www.w3.org/2000/svg\" height=\"24px\"viewBox=\"0 0 24 24\"\n",
              "       width=\"24px\">\n",
              "    <path d=\"M0 0h24v24H0V0z\" fill=\"none\"/>\n",
              "    <path d=\"M18.56 5.44l.94 2.06.94-2.06 2.06-.94-2.06-.94-.94-2.06-.94 2.06-2.06.94zm-11 1L8.5 8.5l.94-2.06 2.06-.94-2.06-.94L8.5 2.5l-.94 2.06-2.06.94zm10 10l.94 2.06.94-2.06 2.06-.94-2.06-.94-.94-2.06-.94 2.06-2.06.94z\"/><path d=\"M17.41 7.96l-1.37-1.37c-.4-.4-.92-.59-1.43-.59-.52 0-1.04.2-1.43.59L10.3 9.45l-7.72 7.72c-.78.78-.78 2.05 0 2.83L4 21.41c.39.39.9.59 1.41.59.51 0 1.02-.2 1.41-.59l7.78-7.78 2.81-2.81c.8-.78.8-2.07 0-2.86zM5.41 20L4 18.59l7.72-7.72 1.47 1.35L5.41 20z\"/>\n",
              "  </svg>\n",
              "      </button>\n",
              "      \n",
              "  <style>\n",
              "    .colab-df-container {\n",
              "      display:flex;\n",
              "      flex-wrap:wrap;\n",
              "      gap: 12px;\n",
              "    }\n",
              "\n",
              "    .colab-df-convert {\n",
              "      background-color: #E8F0FE;\n",
              "      border: none;\n",
              "      border-radius: 50%;\n",
              "      cursor: pointer;\n",
              "      display: none;\n",
              "      fill: #1967D2;\n",
              "      height: 32px;\n",
              "      padding: 0 0 0 0;\n",
              "      width: 32px;\n",
              "    }\n",
              "\n",
              "    .colab-df-convert:hover {\n",
              "      background-color: #E2EBFA;\n",
              "      box-shadow: 0px 1px 2px rgba(60, 64, 67, 0.3), 0px 1px 3px 1px rgba(60, 64, 67, 0.15);\n",
              "      fill: #174EA6;\n",
              "    }\n",
              "\n",
              "    [theme=dark] .colab-df-convert {\n",
              "      background-color: #3B4455;\n",
              "      fill: #D2E3FC;\n",
              "    }\n",
              "\n",
              "    [theme=dark] .colab-df-convert:hover {\n",
              "      background-color: #434B5C;\n",
              "      box-shadow: 0px 1px 3px 1px rgba(0, 0, 0, 0.15);\n",
              "      filter: drop-shadow(0px 1px 2px rgba(0, 0, 0, 0.3));\n",
              "      fill: #FFFFFF;\n",
              "    }\n",
              "  </style>\n",
              "\n",
              "      <script>\n",
              "        const buttonEl =\n",
              "          document.querySelector('#df-0faa90b1-b728-4787-a065-9248e0b0c982 button.colab-df-convert');\n",
              "        buttonEl.style.display =\n",
              "          google.colab.kernel.accessAllowed ? 'block' : 'none';\n",
              "\n",
              "        async function convertToInteractive(key) {\n",
              "          const element = document.querySelector('#df-0faa90b1-b728-4787-a065-9248e0b0c982');\n",
              "          const dataTable =\n",
              "            await google.colab.kernel.invokeFunction('convertToInteractive',\n",
              "                                                     [key], {});\n",
              "          if (!dataTable) return;\n",
              "\n",
              "          const docLinkHtml = 'Like what you see? Visit the ' +\n",
              "            '<a target=\"_blank\" href=https://colab.research.google.com/notebooks/data_table.ipynb>data table notebook</a>'\n",
              "            + ' to learn more about interactive tables.';\n",
              "          element.innerHTML = '';\n",
              "          dataTable['output_type'] = 'display_data';\n",
              "          await google.colab.output.renderOutput(dataTable, element);\n",
              "          const docLink = document.createElement('div');\n",
              "          docLink.innerHTML = docLinkHtml;\n",
              "          element.appendChild(docLink);\n",
              "        }\n",
              "      </script>\n",
              "    </div>\n",
              "  </div>\n",
              "  "
            ]
          },
          "metadata": {},
          "execution_count": 17
        }
      ]
    },
    {
      "cell_type": "code",
      "source": [
        "###Regresor de sklearn\n",
        "from sklearn.ensemble import RandomForestRegressor\n",
        "from sklearn.model_selection import train_test_split "
      ],
      "metadata": {
        "id": "YcT1B8EvqJN0"
      },
      "execution_count": null,
      "outputs": []
    },
    {
      "cell_type": "code",
      "source": [
        "##Posición\n",
        "y = data.pop('Position')\n",
        "X = data.copy()"
      ],
      "metadata": {
        "id": "B5EF7NLEqbcG"
      },
      "execution_count": null,
      "outputs": []
    },
    {
      "cell_type": "code",
      "source": [
        "##Test de entrenamiento\n",
        "\n",
        "X_train, X_test, y_train, y_test = train_test_split(X, y, test_size=0.33, random_state=42)\n"
      ],
      "metadata": {
        "id": "lxn6f--jql9t"
      },
      "execution_count": null,
      "outputs": []
    },
    {
      "cell_type": "code",
      "source": [
        "##Correr random forest\n",
        "\n",
        "clf = RandomForestRegressor(n_estimators=1000, max_depth = 4)"
      ],
      "metadata": {
        "id": "1qa2Bq95q7jc"
      },
      "execution_count": null,
      "outputs": []
    },
    {
      "cell_type": "code",
      "source": [
        "clf.fit(X_train, y_train)"
      ],
      "metadata": {
        "colab": {
          "base_uri": "https://localhost:8080/"
        },
        "id": "0k2Px5Ulq_JK",
        "outputId": "bdebfec1-44c9-4a35-d35e-d4e8a4d872cd"
      },
      "execution_count": null,
      "outputs": [
        {
          "output_type": "execute_result",
          "data": {
            "text/plain": [
              "RandomForestRegressor(max_depth=4, n_estimators=1000)"
            ]
          },
          "metadata": {},
          "execution_count": 38
        }
      ]
    },
    {
      "cell_type": "code",
      "source": [
        "from sklearn.metrics import r2_score"
      ],
      "metadata": {
        "id": "J6NF3WnKrF_1"
      },
      "execution_count": null,
      "outputs": []
    },
    {
      "cell_type": "code",
      "source": [
        "r2_score(y_test, clf.predict(X_test))\n"
      ],
      "metadata": {
        "colab": {
          "base_uri": "https://localhost:8080/"
        },
        "id": "NwDlAqEZrG9t",
        "outputId": "e4b02eb4-0ba1-4765-c63d-9b50fd406cef"
      },
      "execution_count": null,
      "outputs": [
        {
          "output_type": "execute_result",
          "data": {
            "text/plain": [
              "0.27658193562349687"
            ]
          },
          "metadata": {},
          "execution_count": 40
        }
      ]
    },
    {
      "cell_type": "markdown",
      "source": [
        "#Probar un modelo no supervisado o de clustering para texto\n"
      ],
      "metadata": {
        "id": "Q9rBJOWcrd57"
      }
    },
    {
      "cell_type": "code",
      "source": [
        "import gensim\n",
        "from nltk.corpus import stopwords\n",
        "import numpy as np\n",
        "np.random.seed(2021)"
      ],
      "metadata": {
        "id": "f1g1Uf6are8Y"
      },
      "execution_count": null,
      "outputs": []
    },
    {
      "cell_type": "code",
      "source": [
        "def preprocess(text):\n",
        "    result = []\n",
        "    for token in text.split():\n",
        "        if token not in stopwords.words('spanish') and len(token)>4:\n",
        "            result.append(token)\n",
        "    return result"
      ],
      "metadata": {
        "id": "G35iy_o3rhUF"
      },
      "execution_count": null,
      "outputs": []
    },
    {
      "cell_type": "code",
      "source": [
        "import nltk\n",
        "nltk.download('stopwords')\n",
        "process_business = [preprocess(x) for x in list(compras_df['Top queries'].unique())]"
      ],
      "metadata": {
        "colab": {
          "base_uri": "https://localhost:8080/"
        },
        "id": "lfC0khx8rkqi",
        "outputId": "20c220a6-5706-4912-a83e-1a7ddded9fa4"
      },
      "execution_count": null,
      "outputs": [
        {
          "output_type": "stream",
          "name": "stderr",
          "text": [
            "[nltk_data] Downloading package stopwords to /root/nltk_data...\n",
            "[nltk_data]   Unzipping corpora/stopwords.zip.\n"
          ]
        }
      ]
    },
    {
      "cell_type": "code",
      "source": [
        "dictionary = gensim.corpora.Dictionary(process_business)\n"
      ],
      "metadata": {
        "id": "4PWGGbdfr_Gy"
      },
      "execution_count": null,
      "outputs": []
    },
    {
      "cell_type": "code",
      "source": [
        "dictionary.filter_extremes(no_below=1, no_above=0.5)\n"
      ],
      "metadata": {
        "id": "I6cyT2mVsUSd"
      },
      "execution_count": null,
      "outputs": []
    },
    {
      "cell_type": "code",
      "source": [
        "bow_corpus = [dictionary.doc2bow(doc) for doc in process_business]\n"
      ],
      "metadata": {
        "id": "wHRWX0dGsV6z"
      },
      "execution_count": null,
      "outputs": []
    },
    {
      "cell_type": "code",
      "source": [
        "lda_model = gensim.models.LdaMulticore(bow_corpus, num_topics=6, id2word=dictionary, passes=10, workers=2)\n"
      ],
      "metadata": {
        "id": "_0X5QQ0psYF4"
      },
      "execution_count": null,
      "outputs": []
    },
    {
      "cell_type": "code",
      "source": [
        "for idx, type_business in lda_model.print_topics(-1):\n",
        "    print('Topic:{} Words:{}'.format(idx, type_business))"
      ],
      "metadata": {
        "colab": {
          "base_uri": "https://localhost:8080/"
        },
        "id": "P3A1DuIHsfgW",
        "outputId": "1c4b7741-44ba-4d2e-d508-1f5bfcb58fb1"
      },
      "execution_count": null,
      "outputs": [
        {
          "output_type": "stream",
          "name": "stdout",
          "text": [
            "Topic:0 Words:0.108*\"noticias\" + 0.034*\"vacuna\" + 0.024*\"jornada\" + 0.024*\"monterrey\" + 0.022*\"guardianes\" + 0.019*\"méxico\" + 0.015*\"ultimas\" + 0.015*\"última\" + 0.015*\"cansino\" + 0.012*\"santa\"\n",
            "Topic:1 Words:0.031*\"significado\" + 0.019*\"veracruz\" + 0.019*\"mexico\" + 0.019*\"11:11\" + 0.016*\"ocaña\" + 0.016*\"coronavirus\" + 0.013*\"octavio\" + 0.013*\"eclipse\" + 0.010*\"diputados\" + 0.010*\"incendio\"\n",
            "Topic:2 Words:0.074*\"covid\" + 0.056*\"mexico\" + 0.043*\"noticias\" + 0.032*\"puebla\" + 0.023*\"vacuna\" + 0.022*\"semaforo\" + 0.016*\"universo\" + 0.016*\"aguilar\" + 0.014*\"cambio\" + 0.014*\"angela\"\n",
            "Topic:3 Words:0.031*\"canelo\" + 0.026*\"miguel\" + 0.024*\"elecciones\" + 0.019*\"pelea\" + 0.019*\"final\" + 0.019*\"resultados\" + 0.016*\"jalisco\" + 0.016*\"mexico\" + 0.013*\"negro\" + 0.013*\"hongo\"\n",
            "Topic:4 Words:0.025*\"huracan\" + 0.022*\"sinovac\" + 0.019*\"grace\" + 0.017*\"circula\" + 0.017*\"metro\" + 0.015*\"vacuna\" + 0.014*\"sergio\" + 0.011*\"horario\" + 0.011*\"cupones\" + 0.011*\"trayectoria\"\n",
            "Topic:5 Words:0.076*\"elecciones\" + 0.033*\"nuevo\" + 0.021*\"miguel\" + 0.019*\"nodal\" + 0.019*\"cepillin\" + 0.019*\"belinda\" + 0.019*\"precio\" + 0.016*\"america\" + 0.016*\"méxico\" + 0.014*\"murio\"\n"
          ]
        }
      ]
    },
    {
      "cell_type": "code",
      "source": [
        "def get_max_topic(index):\n",
        "    results = lda_model[bow_corpus[index]]\n",
        "    return max(lda_model[results], key=lambda x: x[1])[0]"
      ],
      "metadata": {
        "id": "naBPIn6psl66"
      },
      "execution_count": null,
      "outputs": []
    },
    {
      "cell_type": "code",
      "source": [
        "business_cluster = {x: get_max_topic(i) for i, x in enumerate(list(compras_df['Top queries'].unique()))}\n"
      ],
      "metadata": {
        "id": "NAGWI2laspik"
      },
      "execution_count": null,
      "outputs": []
    },
    {
      "cell_type": "code",
      "source": [
        "compras_df['CLUSTER_NAME'] = compras_df['Top queries'].apply(lambda x: business_cluster[x])\n"
      ],
      "metadata": {
        "id": "tV9fe-2-sx-1"
      },
      "execution_count": null,
      "outputs": []
    },
    {
      "cell_type": "code",
      "source": [
        "compras_df.groupby('CLUSTER_NAME')['Clicks'].mean().plot.bar()\n"
      ],
      "metadata": {
        "colab": {
          "base_uri": "https://localhost:8080/",
          "height": 295
        },
        "id": "ml8SaGnbs99y",
        "outputId": "e56e2ca6-ded0-42b3-e5f0-6e73cbe62484"
      },
      "execution_count": null,
      "outputs": [
        {
          "output_type": "execute_result",
          "data": {
            "text/plain": [
              "<matplotlib.axes._subplots.AxesSubplot at 0x7f1eae7a7450>"
            ]
          },
          "metadata": {},
          "execution_count": 61
        },
        {
          "output_type": "display_data",
          "data": {
            "text/plain": [
              "<Figure size 432x288 with 1 Axes>"
            ],
            "image/png": "[encoded data removed]"
          },
          "metadata": {
            "needs_background": "light"
          }
        }
      ]
    },
    {
      "cell_type": "markdown",
      "source": [
        "#Modelo Supervisado en relación a Clics"
      ],
      "metadata": {
        "id": "_xzkP0zav7Pp"
      }
    },
    {
      "cell_type": "code",
      "source": [
        "import numpy as np\n",
        "from scipy.stats import norm"
      ],
      "metadata": {
        "id": "RI5OJaQOv_uL"
      },
      "execution_count": null,
      "outputs": []
    },
    {
      "cell_type": "code",
      "source": [
        "params = norm.fit(compras_df['Clicks'])\n"
      ],
      "metadata": {
        "id": "3AgmFWJawDBr"
      },
      "execution_count": null,
      "outputs": []
    },
    {
      "cell_type": "code",
      "source": [
        "params"
      ],
      "metadata": {
        "colab": {
          "base_uri": "https://localhost:8080/"
        },
        "id": "wo8Vti6ewIKr",
        "outputId": "b173918f-6011-4f56-d596-c28599e4dc43"
      },
      "execution_count": null,
      "outputs": [
        {
          "output_type": "execute_result",
          "data": {
            "text/plain": [
              "(29334.684, 58210.38177286028)"
            ]
          },
          "metadata": {},
          "execution_count": 64
        }
      ]
    },
    {
      "cell_type": "code",
      "source": [
        "compras_df['PROB_TOTAL'] = [norm(params[0], params[1]).cdf(x) for x in compras_df['Clicks']]\n"
      ],
      "metadata": {
        "id": "qFc07NwrwKZD"
      },
      "execution_count": null,
      "outputs": []
    },
    {
      "cell_type": "code",
      "source": [
        "compras_df[compras_df['PROB_TOTAL']>0.95]"
      ],
      "metadata": {
        "colab": {
          "base_uri": "https://localhost:8080/",
          "height": 833
        },
        "id": "c2gLHtpzwR04",
        "outputId": "6dd4f87c-21a4-40ed-8275-7aba8678dcec"
      },
      "execution_count": null,
      "outputs": [
        {
          "output_type": "execute_result",
          "data": {
            "text/plain": [
              "                   Top queries   Clicks  Impressions     CTR  Position  \\\n",
              "0              noticias de hoy  1403643      5351785  26.23%      1.56   \n",
              "1                     noticias   758939      8793965   8.63%      3.62   \n",
              "2                     cepillin   294087      3876510   7.59%      3.37   \n",
              "3               sergio basteri   275241      2348242  11.72%      2.92   \n",
              "4               carmen salinas   254466      5257899   4.84%      3.81   \n",
              "5                   la aficion   243153       283856  85.66%      1.01   \n",
              "6   resultados elecciones 2021   227998      1115093  20.45%      1.81   \n",
              "7                octavio ocaña   221244      5676384    3.9%      5.32   \n",
              "8                    zac efron   213356      2915987   7.32%      4.64   \n",
              "9               michelle salas   192627      3782355   5.09%      4.47   \n",
              "10                     belinda   171472      4529578   3.79%      4.84   \n",
              "11          miss universo 2021   170461      2435314      7%      6.00   \n",
              "12           mexico vs francia   168649      1516097  11.12%      4.13   \n",
              "13                 coronavirus   167514      6262659   2.67%      2.77   \n",
              "14           cambio de horario   163482      4178390   3.91%      6.41   \n",
              "15             debanhi escobar   160024      2605181   6.14%      5.23   \n",
              "16                   mi vacuna   152558     11207024   1.36%      4.26   \n",
              "17              angela aguilar   150030      1671973   8.97%      4.21   \n",
              "18             christian nodal   147713      3969323   3.72%      4.69   \n",
              "19           horario de verano   146259      1358604  10.77%      4.05   \n",
              "20             diego verdaguer   137503      2335647   5.89%      2.94   \n",
              "21          noticias monterrey   133460       487428  27.38%      1.42   \n",
              "22                       11:11   132383      1139261  11.62%      3.07   \n",
              "23              vacuna cansino   132226      1695594    7.8%      6.69   \n",
              "24     noticias de ultima hora   130487       516507  25.26%      3.06   \n",
              "\n",
              "    CLUSTER_NAME  PROB_TOTAL  \n",
              "0              0    1.000000  \n",
              "1              0    1.000000  \n",
              "2              1    0.999997  \n",
              "3              1    0.999988  \n",
              "4              5    0.999945  \n",
              "5              1    0.999880  \n",
              "6              4    0.999679  \n",
              "7              5    0.999511  \n",
              "8              0    0.999215  \n",
              "9              1    0.997486  \n",
              "10             1    0.992693  \n",
              "11             4    0.992334  \n",
              "12             1    0.991651  \n",
              "13             5    0.991197  \n",
              "14             4    0.989403  \n",
              "15             4    0.987620  \n",
              "16             0    0.982864  \n",
              "17             4    0.980934  \n",
              "18             1    0.979005  \n",
              "19             0    0.977713  \n",
              "20             4    0.968432  \n",
              "21             0    0.963175  \n",
              "22             5    0.961659  \n",
              "23             0    0.961434  \n",
              "24             4    0.958868  "
            ],
            "text/html": [
              "\n",
              "  <div id=\"df-8bedf6dd-1df7-4695-b028-2f22b68226cc\">\n",
              "    <div class=\"colab-df-container\">\n",
              "      <div>\n",
              "<style scoped>\n",
              "    .dataframe tbody tr th:only-of-type {\n",
              "        vertical-align: middle;\n",
              "    }\n",
              "\n",
              "    .dataframe tbody tr th {\n",
              "        vertical-align: top;\n",
              "    }\n",
              "\n",
              "    .dataframe thead th {\n",
              "        text-align: right;\n",
              "    }\n",
              "</style>\n",
              "<table border=\"1\" class=\"dataframe\">\n",
              "  <thead>\n",
              "    <tr style=\"text-align: right;\">\n",
              "      <th></th>\n",
              "      <th>Top queries</th>\n",
              "      <th>Clicks</th>\n",
              "      <th>Impressions</th>\n",
              "      <th>CTR</th>\n",
              "      <th>Position</th>\n",
              "      <th>CLUSTER_NAME</th>\n",
              "      <th>PROB_TOTAL</th>\n",
              "    </tr>\n",
              "  </thead>\n",
              "  <tbody>\n",
              "    <tr>\n",
              "      <th>0</th>\n",
              "      <td>noticias de hoy</td>\n",
              "      <td>1403643</td>\n",
              "      <td>5351785</td>\n",
              "      <td>26.23%</td>\n",
              "      <td>1.56</td>\n",
              "      <td>0</td>\n",
              "      <td>1.000000</td>\n",
              "    </tr>\n",
              "    <tr>\n",
              "      <th>1</th>\n",
              "      <td>noticias</td>\n",
              "      <td>758939</td>\n",
              "      <td>8793965</td>\n",
              "      <td>8.63%</td>\n",
              "      <td>3.62</td>\n",
              "      <td>0</td>\n",
              "      <td>1.000000</td>\n",
              "    </tr>\n",
              "    <tr>\n",
              "      <th>2</th>\n",
              "      <td>cepillin</td>\n",
              "      <td>294087</td>\n",
              "      <td>3876510</td>\n",
              "      <td>7.59%</td>\n",
              "      <td>3.37</td>\n",
              "      <td>1</td>\n",
              "      <td>0.999997</td>\n",
              "    </tr>\n",
              "    <tr>\n",
              "      <th>3</th>\n",
              "      <td>sergio basteri</td>\n",
              "      <td>275241</td>\n",
              "      <td>2348242</td>\n",
              "      <td>11.72%</td>\n",
              "      <td>2.92</td>\n",
              "      <td>1</td>\n",
              "      <td>0.999988</td>\n",
              "    </tr>\n",
              "    <tr>\n",
              "      <th>4</th>\n",
              "      <td>carmen salinas</td>\n",
              "      <td>254466</td>\n",
              "      <td>5257899</td>\n",
              "      <td>4.84%</td>\n",
              "      <td>3.81</td>\n",
              "      <td>5</td>\n",
              "      <td>0.999945</td>\n",
              "    </tr>\n",
              "    <tr>\n",
              "      <th>5</th>\n",
              "      <td>la aficion</td>\n",
              "      <td>243153</td>\n",
              "      <td>283856</td>\n",
              "      <td>85.66%</td>\n",
              "      <td>1.01</td>\n",
              "      <td>1</td>\n",
              "      <td>0.999880</td>\n",
              "    </tr>\n",
              "    <tr>\n",
              "      <th>6</th>\n",
              "      <td>resultados elecciones 2021</td>\n",
              "      <td>227998</td>\n",
              "      <td>1115093</td>\n",
              "      <td>20.45%</td>\n",
              "      <td>1.81</td>\n",
              "      <td>4</td>\n",
              "      <td>0.999679</td>\n",
              "    </tr>\n",
              "    <tr>\n",
              "      <th>7</th>\n",
              "      <td>octavio ocaña</td>\n",
              "      <td>221244</td>\n",
              "      <td>5676384</td>\n",
              "      <td>3.9%</td>\n",
              "      <td>5.32</td>\n",
              "      <td>5</td>\n",
              "      <td>0.999511</td>\n",
              "    </tr>\n",
              "    <tr>\n",
              "      <th>8</th>\n",
              "      <td>zac efron</td>\n",
              "      <td>213356</td>\n",
              "      <td>2915987</td>\n",
              "      <td>7.32%</td>\n",
              "      <td>4.64</td>\n",
              "      <td>0</td>\n",
              "      <td>0.999215</td>\n",
              "    </tr>\n",
              "    <tr>\n",
              "      <th>9</th>\n",
              "      <td>michelle salas</td>\n",
              "      <td>192627</td>\n",
              "      <td>3782355</td>\n",
              "      <td>5.09%</td>\n",
              "      <td>4.47</td>\n",
              "      <td>1</td>\n",
              "      <td>0.997486</td>\n",
              "    </tr>\n",
              "    <tr>\n",
              "      <th>10</th>\n",
              "      <td>belinda</td>\n",
              "      <td>171472</td>\n",
              "      <td>4529578</td>\n",
              "      <td>3.79%</td>\n",
              "      <td>4.84</td>\n",
              "      <td>1</td>\n",
              "      <td>0.992693</td>\n",
              "    </tr>\n",
              "    <tr>\n",
              "      <th>11</th>\n",
              "      <td>miss universo 2021</td>\n",
              "      <td>170461</td>\n",
              "      <td>2435314</td>\n",
              "      <td>7%</td>\n",
              "      <td>6.00</td>\n",
              "      <td>4</td>\n",
              "      <td>0.992334</td>\n",
              "    </tr>\n",
              "    <tr>\n",
              "      <th>12</th>\n",
              "      <td>mexico vs francia</td>\n",
              "      <td>168649</td>\n",
              "      <td>1516097</td>\n",
              "      <td>11.12%</td>\n",
              "      <td>4.13</td>\n",
              "      <td>1</td>\n",
              "      <td>0.991651</td>\n",
              "    </tr>\n",
              "    <tr>\n",
              "      <th>13</th>\n",
              "      <td>coronavirus</td>\n",
              "      <td>167514</td>\n",
              "      <td>6262659</td>\n",
              "      <td>2.67%</td>\n",
              "      <td>2.77</td>\n",
              "      <td>5</td>\n",
              "      <td>0.991197</td>\n",
              "    </tr>\n",
              "    <tr>\n",
              "      <th>14</th>\n",
              "      <td>cambio de horario</td>\n",
              "      <td>163482</td>\n",
              "      <td>4178390</td>\n",
              "      <td>3.91%</td>\n",
              "      <td>6.41</td>\n",
              "      <td>4</td>\n",
              "      <td>0.989403</td>\n",
              "    </tr>\n",
              "    <tr>\n",
              "      <th>15</th>\n",
              "      <td>debanhi escobar</td>\n",
              "      <td>160024</td>\n",
              "      <td>2605181</td>\n",
              "      <td>6.14%</td>\n",
              "      <td>5.23</td>\n",
              "      <td>4</td>\n",
              "      <td>0.987620</td>\n",
              "    </tr>\n",
              "    <tr>\n",
              "      <th>16</th>\n",
              "      <td>mi vacuna</td>\n",
              "      <td>152558</td>\n",
              "      <td>11207024</td>\n",
              "      <td>1.36%</td>\n",
              "      <td>4.26</td>\n",
              "      <td>0</td>\n",
              "      <td>0.982864</td>\n",
              "    </tr>\n",
              "    <tr>\n",
              "      <th>17</th>\n",
              "      <td>angela aguilar</td>\n",
              "      <td>150030</td>\n",
              "      <td>1671973</td>\n",
              "      <td>8.97%</td>\n",
              "      <td>4.21</td>\n",
              "      <td>4</td>\n",
              "      <td>0.980934</td>\n",
              "    </tr>\n",
              "    <tr>\n",
              "      <th>18</th>\n",
              "      <td>christian nodal</td>\n",
              "      <td>147713</td>\n",
              "      <td>3969323</td>\n",
              "      <td>3.72%</td>\n",
              "      <td>4.69</td>\n",
              "      <td>1</td>\n",
              "      <td>0.979005</td>\n",
              "    </tr>\n",
              "    <tr>\n",
              "      <th>19</th>\n",
              "      <td>horario de verano</td>\n",
              "      <td>146259</td>\n",
              "      <td>1358604</td>\n",
              "      <td>10.77%</td>\n",
              "      <td>4.05</td>\n",
              "      <td>0</td>\n",
              "      <td>0.977713</td>\n",
              "    </tr>\n",
              "    <tr>\n",
              "      <th>20</th>\n",
              "      <td>diego verdaguer</td>\n",
              "      <td>137503</td>\n",
              "      <td>2335647</td>\n",
              "      <td>5.89%</td>\n",
              "      <td>2.94</td>\n",
              "      <td>4</td>\n",
              "      <td>0.968432</td>\n",
              "    </tr>\n",
              "    <tr>\n",
              "      <th>21</th>\n",
              "      <td>noticias monterrey</td>\n",
              "      <td>133460</td>\n",
              "      <td>487428</td>\n",
              "      <td>27.38%</td>\n",
              "      <td>1.42</td>\n",
              "      <td>0</td>\n",
              "      <td>0.963175</td>\n",
              "    </tr>\n",
              "    <tr>\n",
              "      <th>22</th>\n",
              "      <td>11:11</td>\n",
              "      <td>132383</td>\n",
              "      <td>1139261</td>\n",
              "      <td>11.62%</td>\n",
              "      <td>3.07</td>\n",
              "      <td>5</td>\n",
              "      <td>0.961659</td>\n",
              "    </tr>\n",
              "    <tr>\n",
              "      <th>23</th>\n",
              "      <td>vacuna cansino</td>\n",
              "      <td>132226</td>\n",
              "      <td>1695594</td>\n",
              "      <td>7.8%</td>\n",
              "      <td>6.69</td>\n",
              "      <td>0</td>\n",
              "      <td>0.961434</td>\n",
              "    </tr>\n",
              "    <tr>\n",
              "      <th>24</th>\n",
              "      <td>noticias de ultima hora</td>\n",
              "      <td>130487</td>\n",
              "      <td>516507</td>\n",
              "      <td>25.26%</td>\n",
              "      <td>3.06</td>\n",
              "      <td>4</td>\n",
              "      <td>0.958868</td>\n",
              "    </tr>\n",
              "  </tbody>\n",
              "</table>\n",
              "</div>\n",
              "      <button class=\"colab-df-convert\" onclick=\"convertToInteractive('df-8bedf6dd-1df7-4695-b028-2f22b68226cc')\"\n",
              "              title=\"Convert this dataframe to an interactive table.\"\n",
              "              style=\"display:none;\">\n",
              "        \n",
              "  <svg xmlns=\"http://www.w3.org/2000/svg\" height=\"24px\"viewBox=\"0 0 24 24\"\n",
              "       width=\"24px\">\n",
              "    <path d=\"M0 0h24v24H0V0z\" fill=\"none\"/>\n",
              "    <path d=\"M18.56 5.44l.94 2.06.94-2.06 2.06-.94-2.06-.94-.94-2.06-.94 2.06-2.06.94zm-11 1L8.5 8.5l.94-2.06 2.06-.94-2.06-.94L8.5 2.5l-.94 2.06-2.06.94zm10 10l.94 2.06.94-2.06 2.06-.94-2.06-.94-.94-2.06-.94 2.06-2.06.94z\"/><path d=\"M17.41 7.96l-1.37-1.37c-.4-.4-.92-.59-1.43-.59-.52 0-1.04.2-1.43.59L10.3 9.45l-7.72 7.72c-.78.78-.78 2.05 0 2.83L4 21.41c.39.39.9.59 1.41.59.51 0 1.02-.2 1.41-.59l7.78-7.78 2.81-2.81c.8-.78.8-2.07 0-2.86zM5.41 20L4 18.59l7.72-7.72 1.47 1.35L5.41 20z\"/>\n",
              "  </svg>\n",
              "      </button>\n",
              "      \n",
              "  <style>\n",
              "    .colab-df-container {\n",
              "      display:flex;\n",
              "      flex-wrap:wrap;\n",
              "      gap: 12px;\n",
              "    }\n",
              "\n",
              "    .colab-df-convert {\n",
              "      background-color: #E8F0FE;\n",
              "      border: none;\n",
              "      border-radius: 50%;\n",
              "      cursor: pointer;\n",
              "      display: none;\n",
              "      fill: #1967D2;\n",
              "      height: 32px;\n",
              "      padding: 0 0 0 0;\n",
              "      width: 32px;\n",
              "    }\n",
              "\n",
              "    .colab-df-convert:hover {\n",
              "      background-color: #E2EBFA;\n",
              "      box-shadow: 0px 1px 2px rgba(60, 64, 67, 0.3), 0px 1px 3px 1px rgba(60, 64, 67, 0.15);\n",
              "      fill: #174EA6;\n",
              "    }\n",
              "\n",
              "    [theme=dark] .colab-df-convert {\n",
              "      background-color: #3B4455;\n",
              "      fill: #D2E3FC;\n",
              "    }\n",
              "\n",
              "    [theme=dark] .colab-df-convert:hover {\n",
              "      background-color: #434B5C;\n",
              "      box-shadow: 0px 1px 3px 1px rgba(0, 0, 0, 0.15);\n",
              "      filter: drop-shadow(0px 1px 2px rgba(0, 0, 0, 0.3));\n",
              "      fill: #FFFFFF;\n",
              "    }\n",
              "  </style>\n",
              "\n",
              "      <script>\n",
              "        const buttonEl =\n",
              "          document.querySelector('#df-8bedf6dd-1df7-4695-b028-2f22b68226cc button.colab-df-convert');\n",
              "        buttonEl.style.display =\n",
              "          google.colab.kernel.accessAllowed ? 'block' : 'none';\n",
              "\n",
              "        async function convertToInteractive(key) {\n",
              "          const element = document.querySelector('#df-8bedf6dd-1df7-4695-b028-2f22b68226cc');\n",
              "          const dataTable =\n",
              "            await google.colab.kernel.invokeFunction('convertToInteractive',\n",
              "                                                     [key], {});\n",
              "          if (!dataTable) return;\n",
              "\n",
              "          const docLinkHtml = 'Like what you see? Visit the ' +\n",
              "            '<a target=\"_blank\" href=https://colab.research.google.com/notebooks/data_table.ipynb>data table notebook</a>'\n",
              "            + ' to learn more about interactive tables.';\n",
              "          element.innerHTML = '';\n",
              "          dataTable['output_type'] = 'display_data';\n",
              "          await google.colab.output.renderOutput(dataTable, element);\n",
              "          const docLink = document.createElement('div');\n",
              "          docLink.innerHTML = docLinkHtml;\n",
              "          element.appendChild(docLink);\n",
              "        }\n",
              "      </script>\n",
              "    </div>\n",
              "  </div>\n",
              "  "
            ]
          },
          "metadata": {},
          "execution_count": 66
        }
      ]
    },
    {
      "cell_type": "code",
      "source": [
        "models_sheet={}\n",
        "for sheet in list(compras_df['Top queries'].unique()):\n",
        "    sheet_compras = compras_df[compras_df['Top queries'] == sheet]\n",
        "    params = norm.fit(sheet_compras['Clicks'])\n",
        "    models_sheet[sheet] = norm(params[0], params[1])"
      ],
      "metadata": {
        "id": "S-93CkViwdeX"
      },
      "execution_count": null,
      "outputs": []
    },
    {
      "cell_type": "code",
      "source": [
        "sheet_prob = []\n",
        "for i, row in compras_df.iterrows():\n",
        "    sheet_prob.append(models_sheet[row['Top queries']].cdf(row['Clicks']))\n",
        "compras_df['PROB_SHEET'] = sheet_prob"
      ],
      "metadata": {
        "colab": {
          "base_uri": "https://localhost:8080/"
        },
        "id": "tL6b-Jc4wwiD",
        "outputId": "74cc24ad-5f88-46c8-942f-d4f635c10a0a"
      },
      "execution_count": null,
      "outputs": [
        {
          "output_type": "stream",
          "name": "stderr",
          "text": [
            "/usr/local/lib/python3.7/dist-packages/scipy/stats/_distn_infrastructure.py:1824: RuntimeWarning: invalid value encountered in double_scalars\n",
            "  x = np.asarray((x - loc)/scale, dtype=dtyp)\n"
          ]
        }
      ]
    },
    {
      "cell_type": "code",
      "source": [
        "compras_df[compras_df['PROB_SHEET']>0.95]\n"
      ],
      "metadata": {
        "colab": {
          "base_uri": "https://localhost:8080/",
          "height": 49
        },
        "id": "ckJZ4Idbw2Jq",
        "outputId": "339d0ece-0130-4a40-f644-e659a8a2584f"
      },
      "execution_count": null,
      "outputs": [
        {
          "output_type": "execute_result",
          "data": {
            "text/plain": [
              "Empty DataFrame\n",
              "Columns: [Top queries, Clicks, Impressions, CTR, Position, CLUSTER_NAME, PROB_TOTAL, PROB_SHEET]\n",
              "Index: []"
            ],
            "text/html": [
              "\n",
              "  <div id=\"df-f142743a-e725-432c-90c5-561ba632e894\">\n",
              "    <div class=\"colab-df-container\">\n",
              "      <div>\n",
              "<style scoped>\n",
              "    .dataframe tbody tr th:only-of-type {\n",
              "        vertical-align: middle;\n",
              "    }\n",
              "\n",
              "    .dataframe tbody tr th {\n",
              "        vertical-align: top;\n",
              "    }\n",
              "\n",
              "    .dataframe thead th {\n",
              "        text-align: right;\n",
              "    }\n",
              "</style>\n",
              "<table border=\"1\" class=\"dataframe\">\n",
              "  <thead>\n",
              "    <tr style=\"text-align: right;\">\n",
              "      <th></th>\n",
              "      <th>Top queries</th>\n",
              "      <th>Clicks</th>\n",
              "      <th>Impressions</th>\n",
              "      <th>CTR</th>\n",
              "      <th>Position</th>\n",
              "      <th>CLUSTER_NAME</th>\n",
              "      <th>PROB_TOTAL</th>\n",
              "      <th>PROB_SHEET</th>\n",
              "    </tr>\n",
              "  </thead>\n",
              "  <tbody>\n",
              "  </tbody>\n",
              "</table>\n",
              "</div>\n",
              "      <button class=\"colab-df-convert\" onclick=\"convertToInteractive('df-f142743a-e725-432c-90c5-561ba632e894')\"\n",
              "              title=\"Convert this dataframe to an interactive table.\"\n",
              "              style=\"display:none;\">\n",
              "        \n",
              "  <svg xmlns=\"http://www.w3.org/2000/svg\" height=\"24px\"viewBox=\"0 0 24 24\"\n",
              "       width=\"24px\">\n",
              "    <path d=\"M0 0h24v24H0V0z\" fill=\"none\"/>\n",
              "    <path d=\"M18.56 5.44l.94 2.06.94-2.06 2.06-.94-2.06-.94-.94-2.06-.94 2.06-2.06.94zm-11 1L8.5 8.5l.94-2.06 2.06-.94-2.06-.94L8.5 2.5l-.94 2.06-2.06.94zm10 10l.94 2.06.94-2.06 2.06-.94-2.06-.94-.94-2.06-.94 2.06-2.06.94z\"/><path d=\"M17.41 7.96l-1.37-1.37c-.4-.4-.92-.59-1.43-.59-.52 0-1.04.2-1.43.59L10.3 9.45l-7.72 7.72c-.78.78-.78 2.05 0 2.83L4 21.41c.39.39.9.59 1.41.59.51 0 1.02-.2 1.41-.59l7.78-7.78 2.81-2.81c.8-.78.8-2.07 0-2.86zM5.41 20L4 18.59l7.72-7.72 1.47 1.35L5.41 20z\"/>\n",
              "  </svg>\n",
              "      </button>\n",
              "      \n",
              "  <style>\n",
              "    .colab-df-container {\n",
              "      display:flex;\n",
              "      flex-wrap:wrap;\n",
              "      gap: 12px;\n",
              "    }\n",
              "\n",
              "    .colab-df-convert {\n",
              "      background-color: #E8F0FE;\n",
              "      border: none;\n",
              "      border-radius: 50%;\n",
              "      cursor: pointer;\n",
              "      display: none;\n",
              "      fill: #1967D2;\n",
              "      height: 32px;\n",
              "      padding: 0 0 0 0;\n",
              "      width: 32px;\n",
              "    }\n",
              "\n",
              "    .colab-df-convert:hover {\n",
              "      background-color: #E2EBFA;\n",
              "      box-shadow: 0px 1px 2px rgba(60, 64, 67, 0.3), 0px 1px 3px 1px rgba(60, 64, 67, 0.15);\n",
              "      fill: #174EA6;\n",
              "    }\n",
              "\n",
              "    [theme=dark] .colab-df-convert {\n",
              "      background-color: #3B4455;\n",
              "      fill: #D2E3FC;\n",
              "    }\n",
              "\n",
              "    [theme=dark] .colab-df-convert:hover {\n",
              "      background-color: #434B5C;\n",
              "      box-shadow: 0px 1px 3px 1px rgba(0, 0, 0, 0.15);\n",
              "      filter: drop-shadow(0px 1px 2px rgba(0, 0, 0, 0.3));\n",
              "      fill: #FFFFFF;\n",
              "    }\n",
              "  </style>\n",
              "\n",
              "      <script>\n",
              "        const buttonEl =\n",
              "          document.querySelector('#df-f142743a-e725-432c-90c5-561ba632e894 button.colab-df-convert');\n",
              "        buttonEl.style.display =\n",
              "          google.colab.kernel.accessAllowed ? 'block' : 'none';\n",
              "\n",
              "        async function convertToInteractive(key) {\n",
              "          const element = document.querySelector('#df-f142743a-e725-432c-90c5-561ba632e894');\n",
              "          const dataTable =\n",
              "            await google.colab.kernel.invokeFunction('convertToInteractive',\n",
              "                                                     [key], {});\n",
              "          if (!dataTable) return;\n",
              "\n",
              "          const docLinkHtml = 'Like what you see? Visit the ' +\n",
              "            '<a target=\"_blank\" href=https://colab.research.google.com/notebooks/data_table.ipynb>data table notebook</a>'\n",
              "            + ' to learn more about interactive tables.';\n",
              "          element.innerHTML = '';\n",
              "          dataTable['output_type'] = 'display_data';\n",
              "          await google.colab.output.renderOutput(dataTable, element);\n",
              "          const docLink = document.createElement('div');\n",
              "          docLink.innerHTML = docLinkHtml;\n",
              "          element.appendChild(docLink);\n",
              "        }\n",
              "      </script>\n",
              "    </div>\n",
              "  </div>\n",
              "  "
            ]
          },
          "metadata": {},
          "execution_count": 69
        }
      ]
    },
    {
      "cell_type": "markdown",
      "source": [
        "#Conclusiones\n",
        "\n",
        "Se observa una consistencia de palabras como noticias, fecha y noticias de hoy, por un lado, por otro es importante trabajar en el posicionamiento de marca de la afición, puesto que se toma como un dato atípico, es decir no tiene un comportamiento constante como el resto de palabras de marca, como Milenio o M2\n",
        "\n",
        "Horario de Verano, Cambio de horario son keywords recurrentes, es importante que en estas coyunturas intentemos no perdes el posicionamiento y sabes que generan un fuerte interés de los usuarios, muchas impresiones, pero pocos clic, por ende es muy importante, que revisemos la Metadata en concreto de estos contenidos y trabajemos en notas de segundo nivel, mismo comportamiento que elecciones y Miss Universo\n",
        "\n",
        "Por otro lado es fundamental\n",
        "1) Trabajar los Minuto a Minuto en partidos, puesto que es una gran oportunidad para atraer tráfico\n",
        "2) Trabajar una estrategía conjunta con con Telediario para empezar a ganar keywords\n",
        "\n",
        "Noticias + Región o Ciudad\n",
        "\n",
        "\n"
      ],
      "metadata": {
        "id": "hP07MSucw6an"
      }
    }
  ]
}